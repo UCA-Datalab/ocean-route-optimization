{
 "cells": [
  {
   "cell_type": "code",
   "execution_count": 1,
   "metadata": {},
   "outputs": [],
   "source": [
    "# Ejecutando esta celda permito que las funciones\n",
    "# que importe en este notebook se actualizen\n",
    "# automaticamente si las cambio en los scripts\n",
    "%load_ext autoreload\n",
    "%autoreload 2"
   ]
  },
  {
   "cell_type": "code",
   "execution_count": 2,
   "metadata": {},
   "outputs": [],
   "source": [
    "import numpy as np\n",
    "import matplotlib.pyplot as plt\n",
    "import pandas as pd\n",
    "from scipy.interpolate import interp2d\n",
    "\n",
    "\n",
    "# Con este comando podre importar las funciones\n",
    "# desde los scripts (asi trabajamos directamente\n",
    "# en los scripts y evitamos tener una copia de cada\n",
    "# funcion en el notebook)\n",
    "import sys\n",
    "sys.path.insert(0, '..')\n",
    "\n",
    "from src.velocity import interpolate_discrete\n",
    "from src.velocity import velocity_composition\n",
    "from src.velocity import boat_movement\n",
    "from src.velocity import desired_velocity"
   ]
  },
  {
   "cell_type": "markdown",
   "metadata": {},
   "source": [
    "## Definitions\n",
    "\n",
    "+ I call `boat_velocity` to the equivalent velocity of the boat if there were not streams.\n",
    "+ I call `stream_velocity` to the velocity of the stream. \n",
    "+ I call `velocity` to the composition between both velocities\n",
    "\n",
    "Velocities are `arrays` expressed as \n",
    "```velocity = np.array([vel_latitude, vel_longitude])```"
   ]
  },
  {
   "cell_type": "code",
   "execution_count": 26,
   "metadata": {},
   "outputs": [],
   "source": [
    "lat = 0\n",
    "long = 3\n",
    "\n",
    "final_point = np.array([0.1234, 3.2221])\n",
    "\n",
    "vel_array = np.random.RandomState(seed=2).rand(10,20,2)\n",
    "array_lat = np.arange(-5,5)\n",
    "array_long = np.arange(-13,7)\n",
    "ts = 0.1"
   ]
  },
  {
   "cell_type": "code",
   "execution_count": 27,
   "metadata": {},
   "outputs": [],
   "source": [
    "boat_velocity = desired_velocity(np.array([lat, long]),\n",
    "                 final_point,\n",
    "                 vel_array, array_lat, array_long, ts)"
   ]
  },
  {
   "cell_type": "code",
   "execution_count": 28,
   "metadata": {},
   "outputs": [],
   "source": [
    "final_point_estimated = np.array(boat_movement(boat_velocity,\n",
    "                 lat, long, vel_array, array_lat, array_long, ts))"
   ]
  },
  {
   "cell_type": "code",
   "execution_count": 29,
   "metadata": {},
   "outputs": [
    {
     "name": "stdout",
     "output_type": "stream",
     "text": [
      "The original boat velocity is: [0.90325297 1.99238975]\n",
      "The original final point is: [0.1234 3.2221],\n",
      "the estimated final point is [0.1234 3.2221]\n"
     ]
    }
   ],
   "source": [
    "print(f'The original boat velocity is: {boat_velocity}')\n",
    "print(f'The original final point is: {final_point},\\nthe estimated final point is {final_point_estimated}')"
   ]
  },
  {
   "cell_type": "code",
   "execution_count": null,
   "metadata": {},
   "outputs": [],
   "source": []
  }
 ],
 "metadata": {
  "kernelspec": {
   "display_name": "Python 3",
   "language": "python",
   "name": "python3"
  },
  "language_info": {
   "codemirror_mode": {
    "name": "ipython",
    "version": 3
   },
   "file_extension": ".py",
   "mimetype": "text/x-python",
   "name": "python",
   "nbconvert_exporter": "python",
   "pygments_lexer": "ipython3",
   "version": "3.8.0"
  }
 },
 "nbformat": 4,
 "nbformat_minor": 4
}
