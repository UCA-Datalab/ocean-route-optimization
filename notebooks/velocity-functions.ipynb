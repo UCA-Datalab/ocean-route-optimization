{
 "cells": [
  {
   "cell_type": "code",
   "execution_count": 3,
   "metadata": {},
   "outputs": [
    {
     "name": "stdout",
     "output_type": "stream",
     "text": [
      "The autoreload extension is already loaded. To reload it, use:\n",
      "  %reload_ext autoreload\n"
     ]
    }
   ],
   "source": [
    "# Ejecutando esta celda permito que las funciones\n",
    "# que importe en este notebook se actualizen\n",
    "# automaticamente si las cambio en los scripts\n",
    "%load_ext autoreload\n",
    "%autoreload 2"
   ]
  },
  {
   "cell_type": "code",
   "execution_count": 7,
   "metadata": {},
   "outputs": [],
   "source": [
    "import numpy as np\n",
    "import matplotlib.pyplot as plt\n",
    "import pandas as pd\n",
    "from scipy.interpolate import interp2d\n",
    "\n",
    "\n",
    "# Con este comando podre importar las funciones\n",
    "# desde los scripts (asi trabajamos directamente\n",
    "# en los scripts y evitamos tener una copia de cada\n",
    "# funcion en el notebook)\n",
    "import sys\n",
    "sys.path.insert(0, '..')\n",
    "\n",
    "from src.velocity import interpolate_discrete\n",
    "from src.velocity import velocity_composition\n",
    "from src.velocity import boat_movement"
   ]
  },
  {
   "cell_type": "markdown",
   "metadata": {},
   "source": [
    "## Definitions\n",
    "\n",
    "+ I call `boat_velocity` to the equivalent velocity of the boat if there were not streams. `boat_velocity` is a tuple for both the angle (`theta`, in radians) and the `velocity_mod` (in the same units as the `stream_velocities`)\n",
    "+ I call `stream_velocity` to the velocity of the stream. \n",
    "+ I call `velocity` to the composition between both velocities"
   ]
  },
  {
   "cell_type": "code",
   "execution_count": 39,
   "metadata": {},
   "outputs": [
    {
     "data": {
      "text/plain": [
       "array([10.33074703, 10.22861025])"
      ]
     },
     "execution_count": 39,
     "metadata": {},
     "output_type": "execute_result"
    }
   ],
   "source": [
    "boat_velocity = np.array([10, 10])  # lat, lon\n",
    "lat = 0\n",
    "long = 3\n",
    "vel_array = np.random.RandomState(seed=2).rand(10,20,2)\n",
    "array_lat = np.arange(-5,5)\n",
    "array_long = np.arange(-13,7)\n",
    "ts = 0.1\n",
    "\n",
    "velocity_composition(boat_velocity, lat, long, vel_array, array_lat, array_long)"
   ]
  },
  {
   "cell_type": "code",
   "execution_count": 40,
   "metadata": {},
   "outputs": [
    {
     "ename": "TypeError",
     "evalue": "boat_movement() missing 2 required positional arguments: 'stream_velocities_longitudes' and 'ts'",
     "output_type": "error",
     "traceback": [
      "\u001b[0;31m---------------------------------------------------------------------------\u001b[0m",
      "\u001b[0;31mTypeError\u001b[0m                                 Traceback (most recent call last)",
      "\u001b[0;32m<ipython-input-40-796ccf5edb9a>\u001b[0m in \u001b[0;36m<module>\u001b[0;34m\u001b[0m\n\u001b[0;32m----> 1\u001b[0;31m \u001b[0mboat_movement\u001b[0m\u001b[0;34m(\u001b[0m\u001b[0;34m(\u001b[0m\u001b[0mnp\u001b[0m\u001b[0;34m.\u001b[0m\u001b[0marray\u001b[0m\u001b[0;34m(\u001b[0m\u001b[0;36m11\u001b[0m\u001b[0;34m)\u001b[0m\u001b[0;34m,\u001b[0m \u001b[0mnp\u001b[0m\u001b[0;34m.\u001b[0m\u001b[0marray\u001b[0m\u001b[0;34m(\u001b[0m\u001b[0;36m3\u001b[0m\u001b[0;34m)\u001b[0m\u001b[0;34m)\u001b[0m\u001b[0;34m,\u001b[0m \u001b[0;34m(\u001b[0m\u001b[0;36m1\u001b[0m\u001b[0;34m,\u001b[0m \u001b[0;36m4.2\u001b[0m\u001b[0;34m)\u001b[0m\u001b[0;34m,\u001b[0m \u001b[0mvel_array\u001b[0m\u001b[0;34m,\u001b[0m \u001b[0mxy_positions\u001b[0m\u001b[0;34m,\u001b[0m \u001b[0mts\u001b[0m\u001b[0;34m)\u001b[0m\u001b[0;34m\u001b[0m\u001b[0;34m\u001b[0m\u001b[0m\n\u001b[0m",
      "\u001b[0;31mTypeError\u001b[0m: boat_movement() missing 2 required positional arguments: 'stream_velocities_longitudes' and 'ts'"
     ]
    }
   ],
   "source": [
    "boat_movement((np.array(11), np.array(3)), (1, 4.2), vel_array, xy_positions, ts)"
   ]
  },
  {
   "cell_type": "code",
   "execution_count": 33,
   "metadata": {},
   "outputs": [
    {
     "data": {
      "text/plain": [
       "array([0., 0.])"
      ]
     },
     "execution_count": 33,
     "metadata": {},
     "output_type": "execute_result"
    }
   ],
   "source": [
    "np.zeros([2])"
   ]
  },
  {
   "cell_type": "code",
   "execution_count": null,
   "metadata": {},
   "outputs": [],
   "source": []
  }
 ],
 "metadata": {
  "kernelspec": {
   "display_name": "ocean-hackathon",
   "language": "python",
   "name": "ocean-hackathon"
  },
  "language_info": {
   "codemirror_mode": {
    "name": "ipython",
    "version": 3
   },
   "file_extension": ".py",
   "mimetype": "text/x-python",
   "name": "python",
   "nbconvert_exporter": "python",
   "pygments_lexer": "ipython3",
   "version": "3.7.9"
  }
 },
 "nbformat": 4,
 "nbformat_minor": 4
}
