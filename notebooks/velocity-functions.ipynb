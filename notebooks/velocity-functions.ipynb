{
 "cells": [
  {
   "cell_type": "code",
   "execution_count": 3,
   "metadata": {},
   "outputs": [],
   "source": [
    "import numpy as np\n",
    "import matplotlib.pyplot as plt\n",
    "import pandas as pd\n",
    "from scipy.interpolate import interp2d"
   ]
  },
  {
   "cell_type": "markdown",
   "metadata": {},
   "source": [
    "## Definitions\n",
    "\n",
    "+ I call `boat_velocity` to the equivalent velocity of the boat if there were not streams. `boat_velocity` is a tuple for both the angle (`theta`, in radians) and the `velocity_mod` (in the same units as the `stream_velocities`)\n",
    "+ I call `stream_velocity` to the velocity of the stream. \n",
    "+ I call `velocity` to the composition between both velocities"
   ]
  },
  {
   "cell_type": "code",
   "execution_count": 104,
   "metadata": {},
   "outputs": [],
   "source": [
    "def interpolated_value(lat, long, vel_array, xy_positions, step = 0.01):\n",
    "    \"\"\"Returns the interpolated value of the tensor for the latitude and longitude requested.\n",
    "    \n",
    "    \"\"\"\n",
    "    \n",
    "    idx = (np.abs(xy_positions[0] - lat)).argmin()\n",
    "    idy = (np.abs(xy_positions[1] - long)).argmin()\n",
    "    \n",
    "    \n",
    "    if xy_positions[0][idx] < lat: idx += 1\n",
    "    if xy_positions[1][idy] < long: idy += 1\n",
    "        \n",
    "    x = xy_positions[0][idx:idx+2]\n",
    "    y = xy_positions[1][idy:idy+2]\n",
    "    \n",
    "    small_array = vel_array[idx:idx+2,idy:idy+2,:]\n",
    "\n",
    "    velx = interp2d(x, y, small_array[:,:,0])\n",
    "    \n",
    "    vely = interp2d(x, y, small_array[:,:,1])\n",
    "    \n",
    "    new_velx = velx(lat, long)\n",
    "    new_vely = vely(lat, long)\n",
    "    \n",
    "    #Interpolated square\n",
    "    lat_s = np.arange(xy_positions[0][idx], xy_positions[0][idx+1], step)\n",
    "    long_s = np.arange(xy_positions[1][idx], xy_positions[1][idx+1], step)\n",
    "    velx_s = velx(lat_s, long_s)\n",
    "    vely_s = vely(lat_s, long_s)\n",
    "    \n",
    "    \n",
    "    \n",
    "    return new_velx, new_vely, lat_s, long_s, velx_s, vely_s"
   ]
  },
  {
   "cell_type": "code",
   "execution_count": 105,
   "metadata": {},
   "outputs": [],
   "source": [
    "def velocity_composition(boat_velocity, boat_position, stream_velocitites, xy_stream_velocities):\n",
    "    \n",
    "    \"\"\"Given the boat velocity and the stream velocity, computes the total velocity of the boat.\n",
    "    \"\"\"\n",
    "    lat_boat, long_boat = boat_position\n",
    "    velx, vely, *_ = interpolated_value(lat_boat, long_boat, stream_velocitites, xy_stream_velocities)\n",
    "    \n",
    "    return boat_velocity[0] + velx, boat_velocity[1] + vely"
   ]
  },
  {
   "cell_type": "code",
   "execution_count": 109,
   "metadata": {},
   "outputs": [],
   "source": [
    "def boat_movement(boat_velocity, boat_position, stream_velocitites, xy_stream_velocities, ts):\n",
    "    vx, vy, *_ = velocity_composition(boat_velocity, boat_position, stream_velocitites, xy_stream_velocities)\n",
    "       \n",
    "    \n",
    "    return boat_position[0]+vx*ts, boat_position[1]+vy*ts\n",
    "    "
   ]
  },
  {
   "cell_type": "code",
   "execution_count": 110,
   "metadata": {
    "scrolled": false
   },
   "outputs": [
    {
     "name": "stderr",
     "output_type": "stream",
     "text": [
      "/home/borja/.local/share/virtualenvs/ocean-route-optimization-DaCDijO3/lib/python3.7/site-packages/ipykernel_launcher.py:2: VisibleDeprecationWarning: Creating an ndarray from ragged nested sequences (which is a list-or-tuple of lists-or-tuples-or ndarrays with different lengths or shapes) is deprecated. If you meant to do this, you must specify 'dtype=object' when creating the ndarray\n",
      "  \n"
     ]
    }
   ],
   "source": [
    "vel_array = np.random.RandomState(seed = 2).rand(10,20,2)\n",
    "xy_positions = np.array([np.arange(-5,5), np.arange(-13,7)])\n",
    "ts = 0.1"
   ]
  },
  {
   "cell_type": "code",
   "execution_count": 112,
   "metadata": {},
   "outputs": [
    {
     "data": {
      "text/plain": [
       "(array([11.32375058]), array([3.98886209]))"
      ]
     },
     "execution_count": 112,
     "metadata": {},
     "output_type": "execute_result"
    }
   ],
   "source": [
    "velocity_composition((np.array(11), np.array(3)), (1, 4.2), vel_array, xy_positions)"
   ]
  },
  {
   "cell_type": "code",
   "execution_count": 113,
   "metadata": {},
   "outputs": [
    {
     "data": {
      "text/plain": [
       "(array([2.13237506]), array([4.59888621]))"
      ]
     },
     "execution_count": 113,
     "metadata": {},
     "output_type": "execute_result"
    }
   ],
   "source": [
    "boat_movement((np.array(11), np.array(3)), (1, 4.2), vel_array, xy_positions, ts)"
   ]
  }
 ],
 "metadata": {
  "kernelspec": {
   "display_name": "Python 3",
   "language": "python",
   "name": "python3"
  },
  "language_info": {
   "codemirror_mode": {
    "name": "ipython",
    "version": 3
   },
   "file_extension": ".py",
   "mimetype": "text/x-python",
   "name": "python",
   "nbconvert_exporter": "python",
   "pygments_lexer": "ipython3",
   "version": "3.7.6"
  }
 },
 "nbformat": 4,
 "nbformat_minor": 4
}
